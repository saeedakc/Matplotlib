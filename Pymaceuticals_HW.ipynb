{
 "cells": [
  {
   "cell_type": "code",
   "execution_count": 52,
   "metadata": {
    "scrolled": true
   },
   "outputs": [
    {
     "ename": "FileNotFoundError",
     "evalue": "[Errno 2] File b'../../../../../../data/Mouse_metadata.csv' does not exist: b'../../../../../../data/Mouse_metadata.csv'",
     "output_type": "error",
     "traceback": [
      "\u001b[1;31m---------------------------------------------------------------------------\u001b[0m",
      "\u001b[1;31mFileNotFoundError\u001b[0m                         Traceback (most recent call last)",
      "\u001b[1;32m<ipython-input-52-0012bf0fa2ea>\u001b[0m in \u001b[0;36m<module>\u001b[1;34m\u001b[0m\n\u001b[0;32m     10\u001b[0m \u001b[1;33m\u001b[0m\u001b[0m\n\u001b[0;32m     11\u001b[0m \u001b[1;31m# Read the Mouse and Drug Data and the Clinical Trial Data\u001b[0m\u001b[1;33m\u001b[0m\u001b[1;33m\u001b[0m\u001b[1;33m\u001b[0m\u001b[0m\n\u001b[1;32m---> 12\u001b[1;33m \u001b[0mmouse_drug_data\u001b[0m \u001b[1;33m=\u001b[0m \u001b[0mpd\u001b[0m\u001b[1;33m.\u001b[0m\u001b[0mread_csv\u001b[0m\u001b[1;33m(\u001b[0m\u001b[0mmouse_drug_data_to_load\u001b[0m\u001b[1;33m)\u001b[0m\u001b[1;33m\u001b[0m\u001b[1;33m\u001b[0m\u001b[0m\n\u001b[0m\u001b[0;32m     13\u001b[0m \u001b[0mclinical_data\u001b[0m \u001b[1;33m=\u001b[0m \u001b[0mpd\u001b[0m\u001b[1;33m.\u001b[0m\u001b[0mread_csv\u001b[0m\u001b[1;33m(\u001b[0m\u001b[0mclinical_trial_data_to_load\u001b[0m\u001b[1;33m)\u001b[0m\u001b[1;33m\u001b[0m\u001b[1;33m\u001b[0m\u001b[0m\n\u001b[0;32m     14\u001b[0m \u001b[1;33m\u001b[0m\u001b[0m\n",
      "\u001b[1;32m~\\Anaconda3\\lib\\site-packages\\pandas\\io\\parsers.py\u001b[0m in \u001b[0;36mparser_f\u001b[1;34m(filepath_or_buffer, sep, delimiter, header, names, index_col, usecols, squeeze, prefix, mangle_dupe_cols, dtype, engine, converters, true_values, false_values, skipinitialspace, skiprows, skipfooter, nrows, na_values, keep_default_na, na_filter, verbose, skip_blank_lines, parse_dates, infer_datetime_format, keep_date_col, date_parser, dayfirst, iterator, chunksize, compression, thousands, decimal, lineterminator, quotechar, quoting, doublequote, escapechar, comment, encoding, dialect, tupleize_cols, error_bad_lines, warn_bad_lines, delim_whitespace, low_memory, memory_map, float_precision)\u001b[0m\n\u001b[0;32m    700\u001b[0m                     skip_blank_lines=skip_blank_lines)\n\u001b[0;32m    701\u001b[0m \u001b[1;33m\u001b[0m\u001b[0m\n\u001b[1;32m--> 702\u001b[1;33m         \u001b[1;32mreturn\u001b[0m \u001b[0m_read\u001b[0m\u001b[1;33m(\u001b[0m\u001b[0mfilepath_or_buffer\u001b[0m\u001b[1;33m,\u001b[0m \u001b[0mkwds\u001b[0m\u001b[1;33m)\u001b[0m\u001b[1;33m\u001b[0m\u001b[1;33m\u001b[0m\u001b[0m\n\u001b[0m\u001b[0;32m    703\u001b[0m \u001b[1;33m\u001b[0m\u001b[0m\n\u001b[0;32m    704\u001b[0m     \u001b[0mparser_f\u001b[0m\u001b[1;33m.\u001b[0m\u001b[0m__name__\u001b[0m \u001b[1;33m=\u001b[0m \u001b[0mname\u001b[0m\u001b[1;33m\u001b[0m\u001b[1;33m\u001b[0m\u001b[0m\n",
      "\u001b[1;32m~\\Anaconda3\\lib\\site-packages\\pandas\\io\\parsers.py\u001b[0m in \u001b[0;36m_read\u001b[1;34m(filepath_or_buffer, kwds)\u001b[0m\n\u001b[0;32m    427\u001b[0m \u001b[1;33m\u001b[0m\u001b[0m\n\u001b[0;32m    428\u001b[0m     \u001b[1;31m# Create the parser.\u001b[0m\u001b[1;33m\u001b[0m\u001b[1;33m\u001b[0m\u001b[1;33m\u001b[0m\u001b[0m\n\u001b[1;32m--> 429\u001b[1;33m     \u001b[0mparser\u001b[0m \u001b[1;33m=\u001b[0m \u001b[0mTextFileReader\u001b[0m\u001b[1;33m(\u001b[0m\u001b[0mfilepath_or_buffer\u001b[0m\u001b[1;33m,\u001b[0m \u001b[1;33m**\u001b[0m\u001b[0mkwds\u001b[0m\u001b[1;33m)\u001b[0m\u001b[1;33m\u001b[0m\u001b[1;33m\u001b[0m\u001b[0m\n\u001b[0m\u001b[0;32m    430\u001b[0m \u001b[1;33m\u001b[0m\u001b[0m\n\u001b[0;32m    431\u001b[0m     \u001b[1;32mif\u001b[0m \u001b[0mchunksize\u001b[0m \u001b[1;32mor\u001b[0m \u001b[0miterator\u001b[0m\u001b[1;33m:\u001b[0m\u001b[1;33m\u001b[0m\u001b[1;33m\u001b[0m\u001b[0m\n",
      "\u001b[1;32m~\\Anaconda3\\lib\\site-packages\\pandas\\io\\parsers.py\u001b[0m in \u001b[0;36m__init__\u001b[1;34m(self, f, engine, **kwds)\u001b[0m\n\u001b[0;32m    893\u001b[0m             \u001b[0mself\u001b[0m\u001b[1;33m.\u001b[0m\u001b[0moptions\u001b[0m\u001b[1;33m[\u001b[0m\u001b[1;34m'has_index_names'\u001b[0m\u001b[1;33m]\u001b[0m \u001b[1;33m=\u001b[0m \u001b[0mkwds\u001b[0m\u001b[1;33m[\u001b[0m\u001b[1;34m'has_index_names'\u001b[0m\u001b[1;33m]\u001b[0m\u001b[1;33m\u001b[0m\u001b[1;33m\u001b[0m\u001b[0m\n\u001b[0;32m    894\u001b[0m \u001b[1;33m\u001b[0m\u001b[0m\n\u001b[1;32m--> 895\u001b[1;33m         \u001b[0mself\u001b[0m\u001b[1;33m.\u001b[0m\u001b[0m_make_engine\u001b[0m\u001b[1;33m(\u001b[0m\u001b[0mself\u001b[0m\u001b[1;33m.\u001b[0m\u001b[0mengine\u001b[0m\u001b[1;33m)\u001b[0m\u001b[1;33m\u001b[0m\u001b[1;33m\u001b[0m\u001b[0m\n\u001b[0m\u001b[0;32m    896\u001b[0m \u001b[1;33m\u001b[0m\u001b[0m\n\u001b[0;32m    897\u001b[0m     \u001b[1;32mdef\u001b[0m \u001b[0mclose\u001b[0m\u001b[1;33m(\u001b[0m\u001b[0mself\u001b[0m\u001b[1;33m)\u001b[0m\u001b[1;33m:\u001b[0m\u001b[1;33m\u001b[0m\u001b[1;33m\u001b[0m\u001b[0m\n",
      "\u001b[1;32m~\\Anaconda3\\lib\\site-packages\\pandas\\io\\parsers.py\u001b[0m in \u001b[0;36m_make_engine\u001b[1;34m(self, engine)\u001b[0m\n\u001b[0;32m   1120\u001b[0m     \u001b[1;32mdef\u001b[0m \u001b[0m_make_engine\u001b[0m\u001b[1;33m(\u001b[0m\u001b[0mself\u001b[0m\u001b[1;33m,\u001b[0m \u001b[0mengine\u001b[0m\u001b[1;33m=\u001b[0m\u001b[1;34m'c'\u001b[0m\u001b[1;33m)\u001b[0m\u001b[1;33m:\u001b[0m\u001b[1;33m\u001b[0m\u001b[1;33m\u001b[0m\u001b[0m\n\u001b[0;32m   1121\u001b[0m         \u001b[1;32mif\u001b[0m \u001b[0mengine\u001b[0m \u001b[1;33m==\u001b[0m \u001b[1;34m'c'\u001b[0m\u001b[1;33m:\u001b[0m\u001b[1;33m\u001b[0m\u001b[1;33m\u001b[0m\u001b[0m\n\u001b[1;32m-> 1122\u001b[1;33m             \u001b[0mself\u001b[0m\u001b[1;33m.\u001b[0m\u001b[0m_engine\u001b[0m \u001b[1;33m=\u001b[0m \u001b[0mCParserWrapper\u001b[0m\u001b[1;33m(\u001b[0m\u001b[0mself\u001b[0m\u001b[1;33m.\u001b[0m\u001b[0mf\u001b[0m\u001b[1;33m,\u001b[0m \u001b[1;33m**\u001b[0m\u001b[0mself\u001b[0m\u001b[1;33m.\u001b[0m\u001b[0moptions\u001b[0m\u001b[1;33m)\u001b[0m\u001b[1;33m\u001b[0m\u001b[1;33m\u001b[0m\u001b[0m\n\u001b[0m\u001b[0;32m   1123\u001b[0m         \u001b[1;32melse\u001b[0m\u001b[1;33m:\u001b[0m\u001b[1;33m\u001b[0m\u001b[1;33m\u001b[0m\u001b[0m\n\u001b[0;32m   1124\u001b[0m             \u001b[1;32mif\u001b[0m \u001b[0mengine\u001b[0m \u001b[1;33m==\u001b[0m \u001b[1;34m'python'\u001b[0m\u001b[1;33m:\u001b[0m\u001b[1;33m\u001b[0m\u001b[1;33m\u001b[0m\u001b[0m\n",
      "\u001b[1;32m~\\Anaconda3\\lib\\site-packages\\pandas\\io\\parsers.py\u001b[0m in \u001b[0;36m__init__\u001b[1;34m(self, src, **kwds)\u001b[0m\n\u001b[0;32m   1851\u001b[0m         \u001b[0mkwds\u001b[0m\u001b[1;33m[\u001b[0m\u001b[1;34m'usecols'\u001b[0m\u001b[1;33m]\u001b[0m \u001b[1;33m=\u001b[0m \u001b[0mself\u001b[0m\u001b[1;33m.\u001b[0m\u001b[0musecols\u001b[0m\u001b[1;33m\u001b[0m\u001b[1;33m\u001b[0m\u001b[0m\n\u001b[0;32m   1852\u001b[0m \u001b[1;33m\u001b[0m\u001b[0m\n\u001b[1;32m-> 1853\u001b[1;33m         \u001b[0mself\u001b[0m\u001b[1;33m.\u001b[0m\u001b[0m_reader\u001b[0m \u001b[1;33m=\u001b[0m \u001b[0mparsers\u001b[0m\u001b[1;33m.\u001b[0m\u001b[0mTextReader\u001b[0m\u001b[1;33m(\u001b[0m\u001b[0msrc\u001b[0m\u001b[1;33m,\u001b[0m \u001b[1;33m**\u001b[0m\u001b[0mkwds\u001b[0m\u001b[1;33m)\u001b[0m\u001b[1;33m\u001b[0m\u001b[1;33m\u001b[0m\u001b[0m\n\u001b[0m\u001b[0;32m   1854\u001b[0m         \u001b[0mself\u001b[0m\u001b[1;33m.\u001b[0m\u001b[0munnamed_cols\u001b[0m \u001b[1;33m=\u001b[0m \u001b[0mself\u001b[0m\u001b[1;33m.\u001b[0m\u001b[0m_reader\u001b[0m\u001b[1;33m.\u001b[0m\u001b[0munnamed_cols\u001b[0m\u001b[1;33m\u001b[0m\u001b[1;33m\u001b[0m\u001b[0m\n\u001b[0;32m   1855\u001b[0m \u001b[1;33m\u001b[0m\u001b[0m\n",
      "\u001b[1;32mpandas/_libs/parsers.pyx\u001b[0m in \u001b[0;36mpandas._libs.parsers.TextReader.__cinit__\u001b[1;34m()\u001b[0m\n",
      "\u001b[1;32mpandas/_libs/parsers.pyx\u001b[0m in \u001b[0;36mpandas._libs.parsers.TextReader._setup_parser_source\u001b[1;34m()\u001b[0m\n",
      "\u001b[1;31mFileNotFoundError\u001b[0m: [Errno 2] File b'../../../../../../data/Mouse_metadata.csv' does not exist: b'../../../../../../data/Mouse_metadata.csv'"
     ]
    }
   ],
   "source": [
    "# Dependencies and Setup\n",
    "%matplotlib inline\n",
    "import matplotlib.pyplot as plt\n",
    "import pandas as pd\n",
    "import numpy as np\n",
    "\n",
    "# File to Load\n",
    "mouse_data_load = \"../data/Mouse_metadata.csv\"\n",
    "study_data_load = \"../data/Study_results.csv\"\n",
    "\n",
    "# Read the Mouse and Drug Data and the Clinical Trial Data\n",
    "mouse_data = pd.read_csv(mouse_data_load)\n",
    "study_data = pd.read_csv(study_data_load)\n",
    "\n",
    "# Combine the data into a single dataset\n",
    "study_data_complete = pd.merge(study_data, mouse_data, how=\"left\", on=[\"Mouse ID\", \"Mouse ID\"])\n",
    "\n",
    "# Display the data table for preview\n",
    "study_data_complete.head()"
   ]
  },
  {
   "cell_type": "code",
   "execution_count": null,
   "metadata": {},
   "outputs": [],
   "source": [
    "# Store the Mean Tumor Volume Data Grouped by Drug and Timepoint \n",
    "tumor_vols_mean = study_data_complete.groupby([\"Drug\", \"Timepoint\"]).mean()[\"Tumor Volume (mm3)\"]\n",
    "\n",
    "# Convert to DataFrame\n",
    "tumor_vols_mean = pd.DataFrame(tumor_vols_mean)\n",
    "\n",
    "# Flatten the column headings\n",
    "tumor_vols_mean = tumor_vols_mean.reset_index()\n",
    "\n",
    "# Preview DataFrame\n",
    "tumor_vols_mean"
   ]
  },
  {
   "cell_type": "code",
   "execution_count": null,
   "metadata": {},
   "outputs": [],
   "source": [
    "# Store the Standard Error of Tumor Volumes Grouped by Drug and Timepoint\n",
    "tumor_vols_sem = study_data_complete.groupby([\"Drug\", \"Timepoint\"]).sem()[\"Tumor Volume (mm3)\"]\n",
    "\n",
    "# Convert to DataFrame\n",
    "tumor_vols_sem = pd.DataFrame(tumor_vols_sem)\n",
    "\n",
    "# Preview DataFrame\n",
    "tumor_vols_sem.head().reset_index()"
   ]
  },
  {
   "cell_type": "code",
   "execution_count": null,
   "metadata": {},
   "outputs": [],
   "source": [
    "# Minor Data Munging to Re-Format the Data Frames\n",
    "tumor_vols_mean = tumor_vols_mean.reset_index()\n",
    "tumor_vols_pivot_mean = tumor_vols_mean.pivot(index=\"Timepoint\", columns=\"Drug\")[\"Tumor Volume (mm3)\"]\n",
    "\n",
    "tumor_vols_sem = tumor_vols_sem.reset_index()\n",
    "tumor_vols_pivot_sem = tumor_vols_sem.pivot(index=\"Timepoint\", columns=\"Drug\")[\"Tumor Volume (mm3)\"]\n",
    "\n",
    "# Preview that Reformatting worked\n",
    "tumor_vols_pivot_mean.head()"
   ]
  },
  {
   "cell_type": "code",
   "execution_count": null,
   "metadata": {},
   "outputs": [],
   "source": [
    "# Generate the Plot (with Error Bars)\n",
    "plt.errorbar(tumor_vols_pivot_mean.index, tumor_vols_pivot_mean[\"Capomulin\"], yerr=tumor_vols_pivot_sem[\"Capomulin\"], color=\"r\", marker=\"o\", markersize=5, linestyle=\"dashed\", linewidth=0.50)\n",
    "plt.errorbar(tumor_vols_pivot_mean.index, tumor_vols_pivot_mean[\"Infubinol\"], yerr=tumor_vols_pivot_sem[\"Infubinol\"], color=\"b\", marker=\"^\", markersize=5, linestyle=\"dashed\", linewidth=0.50)\n",
    "plt.errorbar(tumor_vols_pivot_mean.index, tumor_vols_pivot_mean[\"Ketapril\"], yerr=tumor_vols_pivot_sem[\"Ketapril\"], color=\"g\", marker=\"s\", markersize=5, linestyle=\"dashed\", linewidth=0.50)\n",
    "plt.errorbar(tumor_vols_pivot_mean.index, tumor_vols_pivot_mean[\"Placebo\"], yerr=tumor_vols_pivot_sem[\"Placebo\"], color=\"k\", marker=\"d\", markersize=5, linestyle=\"dashed\", linewidth=0.50)\n",
    "\n",
    "plt.title(\"Tumor Response to Treatment\")\n",
    "plt.ylabel(\"Tumor Volume (mm3)\")\n",
    "plt.xlabel(\"Time (Days)\")\n",
    "plt.grid(True)\n",
    "plt.legend(loc=\"best\", fontsize=\"small\", fancybox=True)\n",
    "\n",
    "# Save the Figure\n",
    "plt.savefig(\"analysis/Fig1.png\")\n",
    "\n",
    "# Show the Figure\n",
    "plt.show()"
   ]
  },
  {
   "cell_type": "code",
   "execution_count": null,
   "metadata": {},
   "outputs": [],
   "source": [
    "# Store the Mean Met. Site Data Grouped by Drug and Timepoint \n",
    "met_sites_mean = study_data_complete.groupby([\"Drug\", \"Timepoint\"]).mean()[\"Metastatic Sites\"]\n",
    "\n",
    "# Convert to DataFrame\n",
    "met_sites_mean = pd.DataFrame(met_sites_mean)\n",
    "\n",
    "# Preview DataFrame\n",
    "met_sites_mean.head()"
   ]
  },
  {
   "cell_type": "code",
   "execution_count": null,
   "metadata": {},
   "outputs": [],
   "source": [
    "# Store the Standard Error associated with Met. Sites Grouped by Drug and Timepoint \n",
    "met_sites_sem = study_data_complete.groupby([\"Drug\", \"Timepoint\"]).sem()[\"Metastatic Sites\"]\n",
    "\n",
    "# Convert to DataFrame\n",
    "met_sites_sem = pd.DataFrame(met_sites_sem)\n",
    "\n",
    "# Preview DataFrame\n",
    "met_sites_sem.head()"
   ]
  },
  {
   "cell_type": "code",
   "execution_count": null,
   "metadata": {},
   "outputs": [],
   "source": [
    "# Minor Data Munging to Re-Format the Data Frames\n",
    "met_sites_mean = met_sites_mean.reset_index()\n",
    "met_sites_pivot_mean = met_sites_mean.pivot(index=\"Timepoint\", columns=\"Drug\")[\"Metastatic Sites\"]\n",
    "\n",
    "met_sites_sem = met_sites_sem.reset_index()\n",
    "met_sites_pivot_sem = met_sites_sem.pivot(index=\"Timepoint\", columns=\"Drug\")[\"Metastatic Sites\"]\n",
    "\n",
    "# Preview that Reformatting worked\n",
    "tumor_vols_pivot_mean.head()"
   ]
  },
  {
   "cell_type": "code",
   "execution_count": null,
   "metadata": {},
   "outputs": [],
   "source": [
    "# Generate the Plot (with Error Bars)\n",
    "plt.errorbar(met_sites_pivot_mean.index, met_sites_pivot_mean[\"Capomulin\"], yerr=met_sites_pivot_sem[\"Capomulin\"], color=\"r\", marker=\"o\", markersize=5, linestyle=\"dashed\", linewidth=0.50)\n",
    "plt.errorbar(met_sites_pivot_mean.index, met_sites_pivot_mean[\"Infubinol\"], yerr=met_sites_pivot_sem[\"Infubinol\"], color=\"b\", marker=\"^\", markersize=5, linestyle=\"dashed\", linewidth=0.50)\n",
    "plt.errorbar(met_sites_pivot_mean.index, met_sites_pivot_mean[\"Ketapril\"], yerr=met_sites_pivot_sem[\"Ketapril\"], color=\"g\", marker=\"s\", markersize=5, linestyle=\"dashed\", linewidth=0.50)\n",
    "plt.errorbar(met_sites_pivot_mean.index, met_sites_pivot_mean[\"Placebo\"], yerr=met_sites_pivot_sem[\"Placebo\"], color=\"k\", marker=\"d\", markersize=5, linestyle=\"dashed\", linewidth=0.50)\n",
    "\n",
    "plt.title(\"Metastatic Spread During Treatment\")\n",
    "plt.ylabel(\"Met. Sites\")\n",
    "plt.xlabel(\"Treatment Duration (Days)\")\n",
    "plt.grid(True)\n",
    "plt.legend(loc=\"best\", fontsize=\"small\", fancybox=True)\n",
    "\n",
    "# Save the Figure\n",
    "plt.savefig(\"analysis/Fig2.png\")\n",
    "\n",
    "# Show the Figure\n",
    "plt.show()"
   ]
  },
  {
   "cell_type": "code",
   "execution_count": null,
   "metadata": {},
   "outputs": [],
   "source": [
    "# Store the Count of Mice Grouped by Drug and Timepoint (W can pass any metric)\n",
    "survival_count = study_data_complete.groupby([\"Drug\", \"Timepoint\"]).count()[\"Tumor Volume (mm3)\"]\n",
    "\n",
    "# Convert to DataFrame\n",
    "survival_count = pd.DataFrame({\"Mouse Count\": survival_count})\n",
    "\n",
    "# Preview DataFrame\n",
    "survival_count.head().reset_index()"
   ]
  },
  {
   "cell_type": "code",
   "execution_count": null,
   "metadata": {},
   "outputs": [],
   "source": [
    "# Minor Data Munging to Re-Format the Data Frames\n",
    "survival_count = survival_count.reset_index()\n",
    "survival_count_pivot = survival_count.pivot(index=\"Timepoint\", columns=\"Drug\")[\"Mouse Count\"]\n",
    "\n",
    "# Preview the Data Frame\n",
    "survival_count_pivot.head()"
   ]
  },
  {
   "cell_type": "code",
   "execution_count": null,
   "metadata": {},
   "outputs": [],
   "source": [
    "# Generate the Plot (Accounting for percentages)\n",
    "plt.plot(100 * survival_count_pivot[\"Capomulin\"] / 25, \"ro\", linestyle=\"dashed\", markersize=5, linewidth=0.50)\n",
    "plt.plot(100 * survival_count_pivot[\"Infubinol\"] / 25, \"b^\", linestyle=\"dashed\", markersize=5, linewidth=0.50)\n",
    "plt.plot(100 * survival_count_pivot[\"Ketapril\"] / 25, \"gs\", linestyle=\"dashed\", markersize=5, linewidth=0.50)\n",
    "plt.plot(100 * survival_count_pivot[\"Placebo\"] / 25 , \"kd\", linestyle=\"dashed\", markersize=6, linewidth=0.50)\n",
    "plt.title(\"Survival During Treatment\")\n",
    "plt.ylabel(\"Survival Rate (%)\")\n",
    "plt.xlabel(\"Time (Days)\")\n",
    "plt.grid(True)\n",
    "plt.legend(loc=\"best\", fontsize=\"small\", fancybox=True)\n",
    "\n",
    "# Save the Figure\n",
    "plt.savefig(\"analysis/Fig3.png\")\n",
    "\n",
    "# Show the Figure\n",
    "plt.show()"
   ]
  },
  {
   "cell_type": "code",
   "execution_count": null,
   "metadata": {},
   "outputs": [],
   "source": [
    "# Calculate the percent changes for each drug\n",
    "tumor_pct_change =  100 * (tumor_vols_pivot_mean.iloc[-1] - tumor_vols_pivot_mean.iloc[0]) / tumor_vols_pivot_mean.iloc[0]\n",
    "tumor_pct_change_sem =  100 * (tumor_vols_pivot_sem.iloc[-1] - tumor_vols_pivot_sem.iloc[0]) / tumor_vols_pivot_sem.iloc[0]\n",
    "\n",
    "# Display the data to confirm\n",
    "tumor_pct_change"
   ]
  },
  {
   "cell_type": "code",
   "execution_count": null,
   "metadata": {},
   "outputs": [],
   "source": [
    "# Store all Relevant Percent Changes into a Tuple\n",
    "pct_changes = (tumor_pct_change[\"Capomulin\"], \n",
    "               tumor_pct_change[\"Infubinol\"], \n",
    "               tumor_pct_change[\"Ketapril\"], \n",
    "               tumor_pct_change[\"Placebo\"])\n",
    "\n",
    "# Splice the data between passing and failing drugs\n",
    "fig, ax = plt.subplots()\n",
    "ind = np.arange(len(pct_changes))  \n",
    "width = 1\n",
    "rectsPass = ax.bar(ind[0], pct_changes[0], width, color='green')\n",
    "rectsFail = ax.bar(ind[1:], pct_changes[1:], width, color='red')\n",
    "\n",
    "# Orient widths. Add labels, tick marks, etc. \n",
    "ax.set_ylabel('% Tumor Volume Change')\n",
    "ax.set_title('Tumor Change Over 45 Day Treatment')\n",
    "ax.set_xticks(ind + 0.5)\n",
    "ax.set_xticklabels(('Capomulin', 'Infubinol', 'Ketapril', 'Placebo'))\n",
    "ax.set_autoscaley_on(False)\n",
    "ax.set_ylim([-30,70])\n",
    "ax.grid(True)\n",
    "\n",
    "# Use functions to label the percentages of changes\n",
    "def autolabelFail(rects):\n",
    "    for rect in rects:\n",
    "        height = rect.get_height()\n",
    "        ax.text(rect.get_x() + rect.get_width()/2., 3,\n",
    "                '%d%%' % int(height),\n",
    "                ha='center', va='bottom', color=\"white\")\n",
    "\n",
    "def autolabelPass(rects):\n",
    "    for rect in rects:\n",
    "        height = rect.get_height()\n",
    "        ax.text(rect.get_x() + rect.get_width()/2., -8,\n",
    "                '-%d%% ' % int(height),\n",
    "                ha='center', va='bottom', color=\"white\")\n",
    "\n",
    "# Call functions to implement the function calls\n",
    "autolabelPass(rectsPass)\n",
    "autolabelFail(rectsFail)\n",
    "\n",
    "# Save the Figure\n",
    "fig.savefig(\"analysis/Fig4.png\")\n",
    "\n",
    "# Show the Figure\n",
    "fig.show()"
   ]
  },
  {
   "cell_type": "code",
   "execution_count": null,
   "metadata": {},
   "outputs": [],
   "source": []
  }
 ],
 "metadata": {
  "kernelspec": {
   "display_name": "Python 3",
   "language": "python",
   "name": "python3"
  },
  "language_info": {
   "codemirror_mode": {
    "name": "ipython",
    "version": 3
   },
   "file_extension": ".py",
   "mimetype": "text/x-python",
   "name": "python",
   "nbconvert_exporter": "python",
   "pygments_lexer": "ipython3",
   "version": "3.7.3"
  }
 },
 "nbformat": 4,
 "nbformat_minor": 2
}
